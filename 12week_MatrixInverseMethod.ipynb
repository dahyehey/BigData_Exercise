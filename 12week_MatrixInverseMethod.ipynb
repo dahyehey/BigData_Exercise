{
 "cells": [
  {
   "cell_type": "markdown",
   "id": "6d7a5d41",
   "metadata": {},
   "source": [
    "# 12주 matrix inverse method 회귀분석"
   ]
  },
  {
   "cell_type": "markdown",
   "id": "e2b910d9",
   "metadata": {},
   "source": [
    "데이터가 다음과 같이 주어졌을 때:\n",
    "\n",
    "* x: [1,2],[1,4],[1,6]\n",
    "\n",
    "* y: 3,6,7"
   ]
  },
  {
   "cell_type": "markdown",
   "id": "fd16e789",
   "metadata": {},
   "source": [
    "회귀식을 도출해보자.\n",
    "\n",
    "* 1) matrix inverse method로 계수를 계산하고 출력,"
   ]
  },
  {
   "cell_type": "code",
   "execution_count": 34,
   "id": "588ab70b",
   "metadata": {},
   "outputs": [],
   "source": [
    "import numpy as np\n",
    "\n",
    "x=np.array([[1,2],[1,4],[1,6]])\n",
    "y=np.array([3,6,7])"
   ]
  },
  {
   "cell_type": "code",
   "execution_count": 35,
   "id": "1f4f4f32",
   "metadata": {},
   "outputs": [
    {
     "name": "stdout",
     "output_type": "stream",
     "text": [
      "xTx= [[ 3 12]\n",
      " [12 56]]\n"
     ]
    }
   ],
   "source": [
    "xTx=np.dot(x.T,x)\n",
    "print(\"xTx=\",xTx)"
   ]
  },
  {
   "cell_type": "code",
   "execution_count": 11,
   "id": "9640404e",
   "metadata": {
    "scrolled": true
   },
   "outputs": [
    {
     "name": "stdout",
     "output_type": "stream",
     "text": [
      "xTxI= [[ 2.33333333 -0.5       ]\n",
      " [-0.5         0.125     ]]\n"
     ]
    }
   ],
   "source": [
    "xTxI=np.linalg.inv(xTx)\n",
    "print(\"xTxI=\",xTxI)"
   ]
  },
  {
   "cell_type": "code",
   "execution_count": 12,
   "id": "462c5a4d",
   "metadata": {},
   "outputs": [
    {
     "name": "stdout",
     "output_type": "stream",
     "text": [
      "xTyT= [16 72]\n"
     ]
    }
   ],
   "source": [
    "xTyT=np.dot(x.T,y)\n",
    "print(\"xTyT=\",xTyT)"
   ]
  },
  {
   "cell_type": "code",
   "execution_count": 13,
   "id": "2c3121ee",
   "metadata": {},
   "outputs": [
    {
     "name": "stdout",
     "output_type": "stream",
     "text": [
      "weights= [1.33333333 1.        ]\n"
     ]
    }
   ],
   "source": [
    "print(\"weights=\",np.dot(xTxI,xTyT))"
   ]
  },
  {
   "cell_type": "code",
   "execution_count": 16,
   "id": "a06898df",
   "metadata": {},
   "outputs": [],
   "source": [
    "w0, w1=np.dot(np.linalg.inv(np.dot(x.T, x)), np.dot(x.T, y))"
   ]
  },
  {
   "cell_type": "code",
   "execution_count": 17,
   "id": "c8b1029f",
   "metadata": {},
   "outputs": [
    {
     "data": {
      "text/plain": [
       "(1.3333333333333286, 1.0)"
      ]
     },
     "execution_count": 17,
     "metadata": {},
     "output_type": "execute_result"
    }
   ],
   "source": [
    "w0, w1"
   ]
  },
  {
   "cell_type": "markdown",
   "id": "5537bb07",
   "metadata": {},
   "source": [
    "* 2) 예측과 실제의 오류 합계를 계산하고 출력,"
   ]
  },
  {
   "cell_type": "code",
   "execution_count": 36,
   "id": "5912e3eb",
   "metadata": {},
   "outputs": [],
   "source": [
    "yhat=w0*x+w1"
   ]
  },
  {
   "cell_type": "code",
   "execution_count": 39,
   "id": "79b33dd9",
   "metadata": {},
   "outputs": [
    {
     "data": {
      "text/plain": [
       "'predicted yhat: [[2.33333333 3.66666667]\\n [2.33333333 6.33333333]\\n [2.33333333 9.        ]]'"
      ]
     },
     "execution_count": 39,
     "metadata": {},
     "output_type": "execute_result"
    }
   ],
   "source": [
    "f\"predicted yhat: {yhat}\""
   ]
  },
  {
   "cell_type": "markdown",
   "id": "a34464b1",
   "metadata": {},
   "source": [
    "* 3) 입력 데이터와 회귀선의 그래프를 작성한다."
   ]
  },
  {
   "cell_type": "code",
   "execution_count": 38,
   "id": "be95e73b",
   "metadata": {
    "scrolled": true
   },
   "outputs": [
    {
     "data": {
      "image/png": "[encoded data removed]",
      "text/plain": [
       "<Figure size 432x288 with 1 Axes>"
      ]
     },
     "metadata": {
      "needs_background": "light"
     },
     "output_type": "display_data"
    }
   ],
   "source": [
    "%matplotlib inline\n",
    "import matplotlib.pyplot as plt\n",
    "plt.plot(x,yhat,'r-',x,y,'bo')\n",
    "plt.show()"
   ]
  },
  {
   "cell_type": "code",
   "execution_count": null,
   "id": "ca87361f",
   "metadata": {},
   "outputs": [],
   "source": []
  }
 ],
 "metadata": {
  "kernelspec": {
   "display_name": "Python 3 (ipykernel)",
   "language": "python",
   "name": "python3"
  },
  "language_info": {
   "codemirror_mode": {
    "name": "ipython",
    "version": 3
   },
   "file_extension": ".py",
   "mimetype": "text/x-python",
   "name": "python",
   "nbconvert_exporter": "python",
   "pygments_lexer": "ipython3",
   "version": "3.9.6"
  }
 },
 "nbformat": 4,
 "nbformat_minor": 5
}
