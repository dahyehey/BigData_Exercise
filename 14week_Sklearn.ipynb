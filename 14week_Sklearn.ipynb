{
 "cells": [
  {
   "cell_type": "markdown",
   "id": "87d3bf77",
   "metadata": {},
   "source": [
    "## (1) X, Y 데이터를 생성"
   ]
  },
  {
   "cell_type": "code",
   "execution_count": 23,
   "id": "8ac5bad8",
   "metadata": {},
   "outputs": [],
   "source": [
    "from sklearn.datasets import make_classification\n",
    "\n",
    "X, Y = make_classification(n_samples=100, n_features=2, n_informative=2, n_redundant=0)"
   ]
  },
  {
   "cell_type": "markdown",
   "id": "fc9a588c",
   "metadata": {},
   "source": [
    "## (2) X의 평균과 표준편차 계산해서 출력"
   ]
  },
  {
   "cell_type": "code",
   "execution_count": 24,
   "id": "12c2dd88",
   "metadata": {},
   "outputs": [
    {
     "data": {
      "text/plain": [
       "(0.01668450391091619, 1.3738077516746374)"
      ]
     },
     "execution_count": 24,
     "metadata": {},
     "output_type": "execute_result"
    }
   ],
   "source": [
    "X.mean(), X.std()"
   ]
  },
  {
   "cell_type": "markdown",
   "id": "de1f6398",
   "metadata": {},
   "source": [
    "## (3) 그래프 작성"
   ]
  },
  {
   "cell_type": "code",
   "execution_count": 25,
   "id": "10737c7a",
   "metadata": {
    "scrolled": true
   },
   "outputs": [
    {
     "data": {
      "image/png": "[encoded data removed]",
      "text/plain": [
       "<Figure size 432x288 with 1 Axes>"
      ]
     },
     "metadata": {
      "needs_background": "light"
     },
     "output_type": "display_data"
    }
   ],
   "source": [
    "import matplotlib.pyplot as plt\n",
    "\n",
    "plt.scatter(X[:,0], X[:,1], marker='o', c=Y)\n",
    "plt.show()"
   ]
  },
  {
   "cell_type": "markdown",
   "id": "172d3c51",
   "metadata": {},
   "source": [
    "## (4) 훈련데이터, 테스트데이터 3:1로 분리"
   ]
  },
  {
   "cell_type": "code",
   "execution_count": 26,
   "id": "da293480",
   "metadata": {},
   "outputs": [],
   "source": [
    "from sklearn.model_selection import train_test_split\n",
    "\n",
    "X_train, X_test, Y_train, Y_test = train_test_split(X, Y, test_size=0.25)"
   ]
  },
  {
   "cell_type": "markdown",
   "id": "8bb3786e",
   "metadata": {},
   "source": [
    "## (5) 훈련데이터에 대하여 BernoulliNB 모델링"
   ]
  },
  {
   "cell_type": "code",
   "execution_count": 27,
   "id": "d4adb0be",
   "metadata": {},
   "outputs": [
    {
     "data": {
      "text/plain": [
       "BernoulliNB()"
      ]
     },
     "execution_count": 27,
     "metadata": {},
     "output_type": "execute_result"
    }
   ],
   "source": [
    "from sklearn.naive_bayes import BernoulliNB\n",
    "\n",
    "bnb = BernoulliNB(binarize=0.0)\n",
    "bnb.fit(X_train, Y_train)"
   ]
  },
  {
   "cell_type": "markdown",
   "id": "14cfada9",
   "metadata": {},
   "source": [
    "## (6) 테스트데이터에 대하여 예측값을 출력"
   ]
  },
  {
   "cell_type": "code",
   "execution_count": 28,
   "id": "b1ff35dd",
   "metadata": {
    "scrolled": false
   },
   "outputs": [
    {
     "data": {
      "text/plain": [
       "[(1, 1, array([1.14329396, 0.8433703 ])),\n",
       " (0, 0, array([ 1.0430574 , -1.37377999])),\n",
       " (0, 0, array([ 1.47293704, -1.43826388])),\n",
       " (1, 1, array([0.51638016, 1.29251165])),\n",
       " (0, 0, array([-0.0796129 , -1.04487765])),\n",
       " (0, 0, array([ 3.09183496, -1.83795456])),\n",
       " (1, 1, array([-0.3515334 ,  2.16364458])),\n",
       " (1, 1, array([0.35299625, 1.46833128])),\n",
       " (1, 1, array([0.06722559, 1.29204778])),\n",
       " (1, 1, array([-0.79066236,  1.99454982])),\n",
       " (1, 1, array([-2.00252682,  0.66584874])),\n",
       " (1, 1, array([-2.2151749 ,  0.66270721])),\n",
       " (0, 0, array([ 0.46581232, -0.98311149])),\n",
       " (0, 0, array([ 0.89088696, -1.32176864])),\n",
       " (0, 0, array([-2.32147203, -0.97120659])),\n",
       " (1, 1, array([-0.70288422,  1.08005822])),\n",
       " (1, 1, array([-1.93241142,  0.70771053])),\n",
       " (1, 1, array([2.3523593, 0.4817873])),\n",
       " (1, 1, array([-2.57947524,  0.56093345])),\n",
       " (1, 1, array([-0.1421894 ,  1.32284425])),\n",
       " (1, 1, array([-0.50476477,  2.20117644])),\n",
       " (1, 1, array([0.84766736, 0.75968818])),\n",
       " (1, 1, array([-2.93169933,  0.36327814])),\n",
       " (0, 0, array([ 3.47483045, -1.7593178 ])),\n",
       " (0, 0, array([ 1.47977273, -1.4127534 ]))]"
      ]
     },
     "execution_count": 28,
     "metadata": {},
     "output_type": "execute_result"
    }
   ],
   "source": [
    "list(zip(bnb.predict(X_test),Y_test, X_test))"
   ]
  },
  {
   "cell_type": "markdown",
   "id": "229069fa",
   "metadata": {},
   "source": [
    "##  (7) 테스트데이터에 대하여 예측과 실제의 정확성 출력"
   ]
  },
  {
   "cell_type": "code",
   "execution_count": 30,
   "id": "2ff6aa5f",
   "metadata": {},
   "outputs": [
    {
     "data": {
      "text/plain": [
       "1.0"
      ]
     },
     "execution_count": 30,
     "metadata": {},
     "output_type": "execute_result"
    }
   ],
   "source": [
    "bnb.score(X_test, Y_test)"
   ]
  }
 ],
 "metadata": {
  "kernelspec": {
   "display_name": "Python 3 (ipykernel)",
   "language": "python",
   "name": "python3"
  },
  "language_info": {
   "codemirror_mode": {
    "name": "ipython",
    "version": 3
   },
   "file_extension": ".py",
   "mimetype": "text/x-python",
   "name": "python",
   "nbconvert_exporter": "python",
   "pygments_lexer": "ipython3",
   "version": "3.9.6"
  }
 },
 "nbformat": 4,
 "nbformat_minor": 5
}
