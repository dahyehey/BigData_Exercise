{
 "cells": [
  {
   "cell_type": "code",
   "execution_count": 71,
   "id": "00624096",
   "metadata": {},
   "outputs": [],
   "source": [
    "import os\n",
    "import pyspark\n",
    "\n",
    "myConf=pyspark.SparkConf()\n",
    "spark=pyspark.sql.SparkSession\\\n",
    "    .builder\\\n",
    "    .master(\"local\")\\\n",
    "    .appName(\"myApp\")\\\n",
    "    .config(conf=myConf)\\\n",
    "    .getOrCreate()"
   ]
  },
  {
   "cell_type": "markdown",
   "id": "6a55fb96",
   "metadata": {},
   "source": [
    "## 문제 3-1: 이름으로 합계를 구해보자."
   ]
  },
  {
   "cell_type": "code",
   "execution_count": 72,
   "id": "bd907a35",
   "metadata": {},
   "outputs": [],
   "source": [
    "_std = [\"'김하나','English',100\",\"'김하나','Math',80\",\n",
    "        \"'임하나','English',70\",\"'임하나','Math',100\",\n",
    "        \"'김갑돌','English',82.3\",\"'김갑돌','Math',98.5\"]"
   ]
  },
  {
   "cell_type": "code",
   "execution_count": 73,
   "id": "cc39d979",
   "metadata": {},
   "outputs": [
    {
     "data": {
      "text/plain": [
       "[[\"'김하나'\", \"'English'\", '100'],\n",
       " [\"'김하나'\", \"'Math'\", '80'],\n",
       " [\"'임하나'\", \"'English'\", '70'],\n",
       " [\"'임하나'\", \"'Math'\", '100'],\n",
       " [\"'김갑돌'\", \"'English'\", '82.3'],\n",
       " [\"'김갑돌'\", \"'Math'\", '98.5']]"
      ]
     },
     "execution_count": 73,
     "metadata": {},
     "output_type": "execute_result"
    }
   ],
   "source": [
    "_stdRdd=spark.sparkContext.parallelize(_std)\n",
    "_Names=_stdRdd.map(lambda x:x.split(\",\"))\n",
    "_Names.collect()"
   ]
  },
  {
   "cell_type": "code",
   "execution_count": 74,
   "id": "6b96bf6a",
   "metadata": {},
   "outputs": [],
   "source": [
    "Names_count=_Names.map(lambda x:(x[0],float(x[2])))\n",
    "NamesStdByKey=Names_count.combineByKey(lambda value: (value,1),\n",
    "                             lambda x,value: (x[0]+value, x[1]+1),\n",
    "                             lambda x,y: (x[0]+y[0], x[1]+y[1]))\n",
    "sumByKey = NamesStdByKey.map(lambda x:(x[0],x[1][0]))"
   ]
  },
  {
   "cell_type": "code",
   "execution_count": 75,
   "id": "605094a2",
   "metadata": {},
   "outputs": [
    {
     "name": "stdout",
     "output_type": "stream",
     "text": [
      "'김하나' 180.0 \n",
      "'임하나' 170.0 \n",
      "'김갑돌' 180.8 \n"
     ]
    }
   ],
   "source": [
    "for i in sumByKey.collect():\n",
    "    for each in i:\n",
    "        print(each, end=\" \")\n",
    "    print()"
   ]
  },
  {
   "cell_type": "markdown",
   "id": "ac347543",
   "metadata": {},
   "source": [
    "## 문제 3-2: 과목으로 합계를 계산해 보자."
   ]
  },
  {
   "cell_type": "code",
   "execution_count": 76,
   "id": "2a73cc7c",
   "metadata": {},
   "outputs": [],
   "source": [
    "Sub_count=_Names.map(lambda x:(x[1],float(x[2])))\n",
    "SubStdByKey=Sub_count.combineByKey(lambda value: (value,1),\n",
    "                             lambda x,value: (x[0]+value, x[1]+1),\n",
    "                             lambda x,y: (x[0]+y[0], x[1]+y[1]))\n",
    "sumByKey = SubStdByKey.map(lambda x:(x[0],x[1][0]))"
   ]
  },
  {
   "cell_type": "code",
   "execution_count": 77,
   "id": "790559ed",
   "metadata": {},
   "outputs": [
    {
     "name": "stdout",
     "output_type": "stream",
     "text": [
      "'English' 252.3 \n",
      "'Math' 278.5 \n"
     ]
    }
   ],
   "source": [
    "for i in sumByKey.collect():\n",
    "    for each in i:\n",
    "        print(each, end=\" \")\n",
    "    print()"
   ]
  },
  {
   "cell_type": "markdown",
   "id": "91302d9b",
   "metadata": {},
   "source": [
    "## 문제 3-3: 이름으로 합계과 개수를 구해보자."
   ]
  },
  {
   "cell_type": "code",
   "execution_count": 78,
   "id": "130c9c9f",
   "metadata": {},
   "outputs": [
    {
     "name": "stdout",
     "output_type": "stream",
     "text": [
      "'김하나' (180.0, 2) \n",
      "'임하나' (170.0, 2) \n",
      "'김갑돌' (180.8, 2) \n"
     ]
    }
   ],
   "source": [
    "for i in NamesStdByKey.collect():\n",
    "    for each in i:\n",
    "        print(each, end=\" \")\n",
    "    print()"
   ]
  },
  {
   "cell_type": "markdown",
   "id": "f96e7593",
   "metadata": {},
   "source": [
    "## 문제 3-4: 이름으로 평균을 계산해 보자."
   ]
  },
  {
   "cell_type": "code",
   "execution_count": 80,
   "id": "7bcb8d63",
   "metadata": {},
   "outputs": [],
   "source": [
    "avgByKey = NamesStdByKey.map(lambda x: (x[0],x[1][0]/x[1][1]))"
   ]
  },
  {
   "cell_type": "code",
   "execution_count": 81,
   "id": "cc12a879",
   "metadata": {},
   "outputs": [
    {
     "name": "stdout",
     "output_type": "stream",
     "text": [
      "'김하나' 90.0 \n",
      "'임하나' 85.0 \n",
      "'김갑돌' 90.4 \n"
     ]
    }
   ],
   "source": [
    "for i in avgByKey.collect():\n",
    "    for each in i:\n",
    "        print(each, end=\" \")\n",
    "    print()"
   ]
  }
 ],
 "metadata": {
  "kernelspec": {
   "display_name": "Python 3 (ipykernel)",
   "language": "python",
   "name": "python3"
  },
  "language_info": {
   "codemirror_mode": {
    "name": "ipython",
    "version": 3
   },
   "file_extension": ".py",
   "mimetype": "text/x-python",
   "name": "python",
   "nbconvert_exporter": "python",
   "pygments_lexer": "ipython3",
   "version": "3.9.6"
  }
 },
 "nbformat": 4,
 "nbformat_minor": 5
}
