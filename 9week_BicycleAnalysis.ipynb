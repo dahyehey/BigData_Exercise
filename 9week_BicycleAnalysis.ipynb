{
 "cells": [
  {
   "cell_type": "markdown",
   "id": "0f050386",
   "metadata": {},
   "source": [
    "## 9주차과제_201810904_김다혜"
   ]
  },
  {
   "cell_type": "code",
   "execution_count": 1,
   "id": "7387b6df",
   "metadata": {},
   "outputs": [],
   "source": [
    "import pyspark\n",
    "myConf = pyspark.SparkConf()\n",
    "spark = pyspark.sql.SparkSession\\\n",
    "    .builder\\\n",
    "    .master(\"local\")\\\n",
    "    .appName(\"myApp\")\\\n",
    "    .config(conf=myConf)\\\n",
    "    .getOrCreate()"
   ]
  },
  {
   "cell_type": "code",
   "execution_count": 2,
   "id": "71e5181c",
   "metadata": {},
   "outputs": [],
   "source": [
    "import os\n",
    "myDf = spark\\\n",
    "    .read\\\n",
    "    .options(header='true', inferschema='true', delimiter=',')\\\n",
    "    .csv(os.path.join('data', '한강공원 주차장 월별 이용 현황.csv'))"
   ]
  },
  {
   "cell_type": "markdown",
   "id": "c7573970",
   "metadata": {},
   "source": [
    "# 9-1: 문제 설정"
   ]
  },
  {
   "cell_type": "markdown",
   "id": "83d767bc",
   "metadata": {},
   "source": [
    "* (1) 한강공원 방문객 수는 계절에 영향을 받을까?\n",
    "* (2) 방문객 수는 증가하는 추세일까?"
   ]
  },
  {
   "cell_type": "markdown",
   "id": "e96cdeaa",
   "metadata": {},
   "source": [
    "# 9-2: 문제의 답"
   ]
  },
  {
   "cell_type": "code",
   "execution_count": 11,
   "id": "034f1909",
   "metadata": {
    "scrolled": true
   },
   "outputs": [
    {
     "name": "stdout",
     "output_type": "stream",
     "text": [
      "+-------+--------------+--------+--------+-------+\n",
      "| 지구별|      주차장명|주차대수|이용시간|   날짜|\n",
      "+-------+--------------+--------+--------+-------+\n",
      "|PLT-006|광나루12주차장|     358|   37828|2021/11|\n",
      "|PLT-010| 잠원1-6주차장|    2162|  231250|2021/11|\n",
      "|PLT-006| 광나루3주차장|     788|   32559|2021/11|\n",
      "|PLT-005|   뚝섬4주차장|     457|   43218|2021/11|\n",
      "|PLT-007|   양화2주차장|      54|    6581|2021/11|\n",
      "|PLT-008| 여의도2주차장|     829|  156882|2021/11|\n",
      "|PLT-008| 여의도5주차장|     379|  128867|2021/11|\n",
      "|PLT-005|   뚝섬3주차장|     245|   21896|2021/11|\n",
      "|PLT-001|   강서1주차장|     201|   16279|2021/11|\n",
      "|PLT-008| 여의도3주차장|    1126|  423077|2021/11|\n",
      "|PLT-008| 여의도1주차장|    1822|  280544|2021/11|\n",
      "|PLT-008| 여의도4주차장|     213|   71900|2021/11|\n",
      "|PLT-005|   뚝섬1주차장|     164|   12319|2021/11|\n",
      "|PLT-009|  반포23주차장|    1851|  120743|2021/11|\n",
      "|PLT-007|   양화1주차장|     253|   32193|2021/11|\n",
      "|PLT-003|   망원1주차장|     245|   22569|2021/11|\n",
      "|PLT-007| 양화345주차장|     780|   63223|2021/11|\n",
      "|PLT-004|  이촌34주차장|     802|   72490|2021/11|\n",
      "|PLT-009|   반포1주차장|     576|   29714|2021/11|\n",
      "|PLT-004|   이촌1주차장|     109|    9666|2021/11|\n",
      "+-------+--------------+--------+--------+-------+\n",
      "only showing top 20 rows\n",
      "\n"
     ]
    }
   ],
   "source": [
    "myDf.show()"
   ]
  },
  {
   "cell_type": "code",
   "execution_count": 37,
   "id": "da2c15ba",
   "metadata": {},
   "outputs": [],
   "source": [
    "from pyspark.sql import functions as F\n",
    "myDf2 = myDf.groupBy(\"날짜\").agg({\"주차대수\":\"sum\"}).sort(F.asc(\"날짜\"))"
   ]
  },
  {
   "cell_type": "code",
   "execution_count": 38,
   "id": "91a333d5",
   "metadata": {
    "scrolled": true
   },
   "outputs": [
    {
     "name": "stdout",
     "output_type": "stream",
     "text": [
      "+-------+-------------+\n",
      "|   날짜|sum(주차대수)|\n",
      "+-------+-------------+\n",
      "|2020/01|     10299380|\n",
      "|2020/02|     28172690|\n",
      "|2020/03|     59496080|\n",
      "|2020/04|     58178960|\n",
      "|2020/05|     70108850|\n",
      "|2020/06|     65327640|\n",
      "|2020/07|     63097720|\n",
      "|2020/08|     28385420|\n",
      "|2020/09|     53966010|\n",
      "|2020/10|     49991830|\n",
      "|2020/11|     40375020|\n",
      "|2020/12|     42320530|\n",
      "|2021/01|     38837400|\n",
      "|2021/02|     43010870|\n",
      "|2021/03|     50610630|\n",
      "|2021/04|     60497780|\n",
      "|2021/05|     58921030|\n",
      "|2021/06|     62407870|\n",
      "|2021/07|     51166150|\n",
      "|2021/08|     43426277|\n",
      "+-------+-------------+\n",
      "only showing top 20 rows\n",
      "\n"
     ]
    }
   ],
   "source": [
    "myDf2.show()"
   ]
  },
  {
   "cell_type": "code",
   "execution_count": 39,
   "id": "36c431e9",
   "metadata": {
    "scrolled": true
   },
   "outputs": [
    {
     "data": {
      "image/png": "[encoded data removed]",
      "text/plain": [
       "<Figure size 432x288 with 1 Axes>"
      ]
     },
     "metadata": {
      "needs_background": "light"
     },
     "output_type": "display_data"
    }
   ],
   "source": [
    "%matplotlib inline\n",
    "import numpy as np\n",
    "import matplotlib.pyplot as plt\n",
    "\n",
    "_dateRdd=myDf2.rdd.map(lambda fields:fields[0]).collect()\n",
    "_sumRdd=myDf2.rdd.map(lambda fields:fields[1]).collect()\n",
    "\n",
    "plt.plot(np.array(_dateRdd), np.array(_sumRdd))\n",
    "plt.xticks(rotation=45)\n",
    "plt.show()"
   ]
  },
  {
   "cell_type": "markdown",
   "id": "ab41a270",
   "metadata": {},
   "source": [
    "(1) 한강공원 방문객 수는 계절에 영향을 받을까?\n",
    "- 야외 특성상 여름과 겨울에는 방문객이 적고, 봄과 가을에 방문객이 많다.\n",
    "\n",
    "(2) 방문객 수는 증가하는 추세일까?\n",
    "- 사회적 거리두기의 영향으로 작년보다 다소 낮은 수치를 보인다."
   ]
  },
  {
   "cell_type": "code",
   "execution_count": null,
   "id": "a11adee9",
   "metadata": {},
   "outputs": [],
   "source": []
  }
 ],
 "metadata": {
  "kernelspec": {
   "display_name": "Python 3 (ipykernel)",
   "language": "python",
   "name": "python3"
  },
  "language_info": {
   "codemirror_mode": {
    "name": "ipython",
    "version": 3
   },
   "file_extension": ".py",
   "mimetype": "text/x-python",
   "name": "python",
   "nbconvert_exporter": "python",
   "pygments_lexer": "ipython3",
   "version": "3.9.6"
  }
 },
 "nbformat": 4,
 "nbformat_minor": 5
}
