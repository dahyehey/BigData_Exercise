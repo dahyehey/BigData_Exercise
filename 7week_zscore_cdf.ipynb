{
 "cells": [
  {
   "cell_type": "code",
   "execution_count": 1,
   "id": "916d19ae",
   "metadata": {},
   "outputs": [],
   "source": [
    "import os\n",
    "import pyspark\n",
    "\n",
    "myConf=pyspark.SparkConf()\n",
    "spark=pyspark.sql.SparkSession\\\n",
    "    .builder\\\n",
    "    .master(\"local\")\\\n",
    "    .appName(\"myApp\")\\\n",
    "    .config(conf=myConf)\\\n",
    "    .getOrCreate()"
   ]
  },
  {
   "cell_type": "code",
   "execution_count": 2,
   "id": "d85c2733",
   "metadata": {},
   "outputs": [],
   "source": [
    "marks=[\n",
    "    \"김하나, English, 100\",\n",
    "    \"김하나, Math, 80\",\n",
    "    \"임하나, English, 70\",\n",
    "    \"임하나, Math, 100\",\n",
    "    \"김갑돌, English, 82.3\",\n",
    "    \"김갑돌, Math, 98.5\"\n",
    "]"
   ]
  },
  {
   "cell_type": "markdown",
   "id": "91eba84f",
   "metadata": {},
   "source": [
    "# 1-1 성적데이터로 DataFrame을 생성."
   ]
  },
  {
   "cell_type": "code",
   "execution_count": 3,
   "id": "6ff23005",
   "metadata": {},
   "outputs": [],
   "source": [
    "markRdd=spark.sparkContext.parallelize(marks).map(lambda x:x.split(','))"
   ]
  },
  {
   "cell_type": "code",
   "execution_count": 21,
   "id": "475778bb",
   "metadata": {},
   "outputs": [],
   "source": [
    "markDf=spark.createDataFrame(markRdd)"
   ]
  },
  {
   "cell_type": "code",
   "execution_count": 53,
   "id": "227b4793",
   "metadata": {},
   "outputs": [
    {
     "name": "stdout",
     "output_type": "stream",
     "text": [
      "+------+--------+-----+-----------+\n",
      "|  name| subject|mark2|    zscore2|\n",
      "+------+--------+-----+-----------+\n",
      "|김하나| English|100.0| 0.90201485|\n",
      "|김하나|    Math| 80.0|-0.66217273|\n",
      "|임하나| English| 70.0| -1.4442666|\n",
      "|임하나|    Math|100.0| 0.90201485|\n",
      "|김갑돌| English| 82.3|-0.48229116|\n",
      "|김갑돌|    Math| 98.5| 0.78470075|\n",
      "+------+--------+-----+-----------+\n",
      "\n"
     ]
    }
   ],
   "source": [
    "markDf = markDf.withColumnRenamed('_1','name')\n",
    "markDf = markDf.withColumnRenamed('_2','subject')\n",
    "markDf = markDf.withColumnRenamed('_3','mark')\n",
    "markDf.show()"
   ]
  },
  {
   "cell_type": "markdown",
   "id": "5673ec94",
   "metadata": {},
   "source": [
    "# 1-2 zscore 컬럼을 생성."
   ]
  },
  {
   "cell_type": "code",
   "execution_count": 25,
   "id": "552d676f",
   "metadata": {},
   "outputs": [],
   "source": [
    "markDf = markDf.withColumn('mark2',markDf.mark.cast(\"double\"))"
   ]
  },
  {
   "cell_type": "code",
   "execution_count": 32,
   "id": "ff8fd31c",
   "metadata": {},
   "outputs": [
    {
     "name": "stdout",
     "output_type": "stream",
     "text": [
      "88.46666666666665\n",
      "12.786190467323198\n"
     ]
    }
   ],
   "source": [
    "import numpy as np\n",
    "from pyspark.sql import functions as F\n",
    "\n",
    "_mark= markDf.select(\"mark2\").collect()\n",
    "_markMean= np.mean(_mark)\n",
    "_markStd= np.std(_mark, ddof =1)\n",
    "\n",
    "print(hm)\n",
    "print(hstd)"
   ]
  },
  {
   "cell_type": "code",
   "execution_count": 34,
   "id": "07fb18f6",
   "metadata": {},
   "outputs": [],
   "source": [
    "markDf=markDf.select(\"name\",\"subject\",\"mark2\",((markDf.mark2-_markMean)/_markStd).alias(\"zscore\"))"
   ]
  },
  {
   "cell_type": "code",
   "execution_count": 40,
   "id": "7ba49ce6",
   "metadata": {},
   "outputs": [],
   "source": [
    "markDf = markDf.withColumn('zscore2',markDf.zscore.cast(\"float\"))"
   ]
  },
  {
   "cell_type": "code",
   "execution_count": 51,
   "id": "de823563",
   "metadata": {},
   "outputs": [],
   "source": [
    "markDf = markDf.drop('zscore')"
   ]
  },
  {
   "cell_type": "code",
   "execution_count": 52,
   "id": "5991f483",
   "metadata": {},
   "outputs": [
    {
     "name": "stdout",
     "output_type": "stream",
     "text": [
      "+------+--------+-----+-----------+\n",
      "|  name| subject|mark2|    zscore2|\n",
      "+------+--------+-----+-----------+\n",
      "|김하나| English|100.0| 0.90201485|\n",
      "|김하나|    Math| 80.0|-0.66217273|\n",
      "|임하나| English| 70.0| -1.4442666|\n",
      "|임하나|    Math|100.0| 0.90201485|\n",
      "|김갑돌| English| 82.3|-0.48229116|\n",
      "|김갑돌|    Math| 98.5| 0.78470075|\n",
      "+------+--------+-----+-----------+\n",
      "\n"
     ]
    }
   ],
   "source": [
    "markDf.show()"
   ]
  },
  {
   "cell_type": "markdown",
   "id": "7d48d71c",
   "metadata": {},
   "source": [
    "# 1-3 cdf 컬럼을 생성."
   ]
  },
  {
   "cell_type": "code",
   "execution_count": null,
   "id": "61f49d7a",
   "metadata": {},
   "outputs": [],
   "source": []
  }
 ],
 "metadata": {
  "kernelspec": {
   "display_name": "Python 3 (ipykernel)",
   "language": "python",
   "name": "python3"
  },
  "language_info": {
   "codemirror_mode": {
    "name": "ipython",
    "version": 3
   },
   "file_extension": ".py",
   "mimetype": "text/x-python",
   "name": "python",
   "nbconvert_exporter": "python",
   "pygments_lexer": "ipython3",
   "version": "3.9.6"
  }
 },
 "nbformat": 4,
 "nbformat_minor": 5
}
