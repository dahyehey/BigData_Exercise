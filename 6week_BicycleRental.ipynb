{
 "cells": [
  {
   "cell_type": "code",
   "execution_count": 4,
   "id": "1183d046",
   "metadata": {},
   "outputs": [],
   "source": [
    "import os\n",
    "import pyspark\n",
    "\n",
    "myConf=pyspark.SparkConf()\n",
    "spark=pyspark.sql.SparkSession\\\n",
    "    .builder\\\n",
    "    .master(\"local\")\\\n",
    "    .appName(\"myApp\")\\\n",
    "    .config(conf=myConf)\\\n",
    "    .getOrCreate()"
   ]
  },
  {
   "cell_type": "code",
   "execution_count": 7,
   "id": "45664891",
   "metadata": {},
   "outputs": [],
   "source": [
    "myDf = spark\\\n",
    "        .read\\\n",
    "        .options(header='true', inferschema='true', delimiter=',')\\\n",
    "        .csv(os.path.join('data','서울특별시_공공자전거 일별 대여건수_(2018_2019.03).csv'))\n",
    "\n",
    "myDf=myDf.withColumnRenamed('대여일자','date')\n",
    "myDf=myDf.withColumnRenamed('대여건수','count')"
   ]
  },
  {
   "cell_type": "code",
   "execution_count": 6,
   "id": "a73c9947",
   "metadata": {},
   "outputs": [
    {
     "name": "stdout",
     "output_type": "stream",
     "text": [
      "+----------+-----+\n",
      "|      date|count|\n",
      "+----------+-----+\n",
      "|2018-01-01| 4950|\n",
      "|2018-01-02| 7136|\n",
      "|2018-01-03| 7156|\n",
      "|2018-01-04| 7102|\n",
      "|2018-01-05| 7705|\n",
      "|2018-01-06| 5681|\n",
      "|2018-01-07| 5220|\n",
      "|2018-01-08| 6309|\n",
      "|2018-01-09| 5988|\n",
      "|2018-01-10| 4476|\n",
      "|2018-01-11| 4337|\n",
      "|2018-01-12| 4401|\n",
      "|2018-01-13| 3756|\n",
      "|2018-01-14| 4675|\n",
      "|2018-01-15| 6993|\n",
      "|2018-01-16| 7421|\n",
      "|2018-01-17| 6990|\n",
      "|2018-01-18| 7054|\n",
      "|2018-01-19| 8329|\n",
      "|2018-01-20| 6148|\n",
      "+----------+-----+\n",
      "only showing top 20 rows\n",
      "\n"
     ]
    }
   ],
   "source": [
    "myDf.show()"
   ]
  },
  {
   "cell_type": "code",
   "execution_count": 11,
   "id": "348c9c5e",
   "metadata": {},
   "outputs": [],
   "source": [
    "from datetime import datetime\n",
    "from pyspark.sql.types import DateType\n",
    "from pyspark.sql import functions as F\n",
    "\n",
    "myDf=myDf.withColumn('date1', F.to_date(myDf['date'], 'yyyy-MM-dd'))\n",
    "myDf=myDf.withColumn('year',F.year(myDf['date1']))\n",
    "myDf=myDf.withColumn('month',F.month(myDf['date1']))\n",
    "\n",
    "# date가 string type이므로 년도별 월별을 추출하기 위해 date type으로 바꾼다"
   ]
  },
  {
   "cell_type": "markdown",
   "id": "c2889978",
   "metadata": {},
   "source": [
    "### 문제 1-1: 년도별 대여건수 합계"
   ]
  },
  {
   "cell_type": "code",
   "execution_count": 12,
   "id": "aba49f35",
   "metadata": {},
   "outputs": [
    {
     "name": "stdout",
     "output_type": "stream",
     "text": [
      "+----+----------+\n",
      "|year|sum(count)|\n",
      "+----+----------+\n",
      "|2018|  10124874|\n",
      "|2019|   1871935|\n",
      "+----+----------+\n",
      "\n"
     ]
    }
   ],
   "source": [
    "myDf.groupBy('year').agg({\"count\":\"sum\"}).show()"
   ]
  },
  {
   "cell_type": "markdown",
   "id": "20aff232",
   "metadata": {},
   "source": [
    "### 문제 1-2: 년도별, 월별 대여건수 합계"
   ]
  },
  {
   "cell_type": "code",
   "execution_count": 15,
   "id": "b6d0453c",
   "metadata": {
    "scrolled": true
   },
   "outputs": [
    {
     "name": "stdout",
     "output_type": "stream",
     "text": [
      "+-------+----------+\n",
      "|   date|sum(count)|\n",
      "+-------+----------+\n",
      "| 2018-1|    164367|\n",
      "| 2018-2|    168741|\n",
      "| 2018-3|    462661|\n",
      "| 2018-4|    687885|\n",
      "| 2018-5|    965609|\n",
      "| 2018-6|   1207123|\n",
      "| 2018-7|   1100015|\n",
      "| 2018-8|   1037505|\n",
      "| 2018-9|   1447993|\n",
      "|2018-10|   1420621|\n",
      "|2018-11|    961532|\n",
      "|2018-12|    500822|\n",
      "| 2019-1|    495573|\n",
      "| 2019-2|    471543|\n",
      "| 2019-3|    904819|\n",
      "+-------+----------+\n",
      "\n"
     ]
    }
   ],
   "source": [
    "myDf2=myDf.groupBy('year','month').agg({\"count\":\"sum\"})\\\n",
    "            .select(F.concat(F.col('year'),\\\n",
    "                             F.lit('-'),\\\n",
    "                             F.col('month')).alias('date'),\\\n",
    "                             F.col('sum(count)'))\\\n",
    "                            .sort(F.asc(\"year\"),F.asc(\"month\"))\n",
    "\n",
    "myDf2.show()"
   ]
  },
  {
   "cell_type": "markdown",
   "id": "c7e809df",
   "metadata": {},
   "source": [
    "### 문제 1-3: 년도별, 월별 대여건수 그래프\n",
    "\n"
   ]
  },
  {
   "cell_type": "code",
   "execution_count": 16,
   "id": "09876e5e",
   "metadata": {},
   "outputs": [
    {
     "data": {
      "image/png": "[encoded data removed]",
      "text/plain": [
       "<Figure size 432x288 with 1 Axes>"
      ]
     },
     "metadata": {
      "needs_background": "light"
     },
     "output_type": "display_data"
    }
   ],
   "source": [
    "%matplotlib inline\n",
    "import numpy as np\n",
    "import matplotlib.pyplot as plt\n",
    "\n",
    "_dateRdd=myDf2.rdd.map(lambda fields:fields[0]).collect()\n",
    "_sumRdd=myDf2.rdd.map(lambda fields:fields[1]).collect()\n",
    "\n",
    "plt.plot(np.array(_dateRdd), np.array(_sumRdd))\n",
    "plt.show()\n"
   ]
  },
  {
   "cell_type": "code",
   "execution_count": null,
   "id": "a69131d4",
   "metadata": {},
   "outputs": [],
   "source": []
  }
 ],
 "metadata": {
  "kernelspec": {
   "display_name": "Python 3 (ipykernel)",
   "language": "python",
   "name": "python3"
  },
  "language_info": {
   "codemirror_mode": {
    "name": "ipython",
    "version": 3
   },
   "file_extension": ".py",
   "mimetype": "text/x-python",
   "name": "python",
   "nbconvert_exporter": "python",
   "pygments_lexer": "ipython3",
   "version": "3.9.6"
  }
 },
 "nbformat": 4,
 "nbformat_minor": 5
}
