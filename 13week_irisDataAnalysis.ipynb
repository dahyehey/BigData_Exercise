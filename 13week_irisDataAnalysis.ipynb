{
 "cells": [
  {
   "cell_type": "markdown",
   "id": "40d79e2d",
   "metadata": {},
   "source": [
    "## (1) DataFrame 생성"
   ]
  },
  {
   "cell_type": "code",
   "execution_count": 2,
   "id": "4d40044f",
   "metadata": {},
   "outputs": [],
   "source": [
    "import os\n",
    "import pyspark\n",
    "\n",
    "myConf=pyspark.SparkConf()\n",
    "spark = pyspark.sql.SparkSession\\\n",
    "    .builder\\\n",
    "    .master(\"local\")\\\n",
    "    .appName(\"myApp\")\\\n",
    "    .config(conf=myConf)\\\n",
    "    .getOrCreate()"
   ]
  },
  {
   "cell_type": "code",
   "execution_count": 3,
   "id": "13b732b3",
   "metadata": {},
   "outputs": [],
   "source": [
    "import pandas as pd\n",
    "\n",
    "fname = \"https://archive.ics.uci.edu/ml/machine-learning-databases/iris/iris.data\"\n",
    "iris = pd.read_csv(fname, names=[\"sepal_length\",\"sepal_width\",\"petal_length\", \"petal_width\",\"species\"])\n",
    "irisDf = spark.createDataFrame(iris)"
   ]
  },
  {
   "cell_type": "markdown",
   "id": "6f2bfce2",
   "metadata": {},
   "source": [
    "## (2) 회귀선 그래프"
   ]
  },
  {
   "cell_type": "code",
   "execution_count": 4,
   "id": "7fb0dd32",
   "metadata": {
    "scrolled": true
   },
   "outputs": [
    {
     "data": {
      "text/plain": [
       "<seaborn.axisgrid.FacetGrid at 0x14d3f53a2b0>"
      ]
     },
     "execution_count": 4,
     "metadata": {},
     "output_type": "execute_result"
    },
    {
     "data": {
      "image/png": "[encoded data removed]",
      "text/plain": [
       "<Figure size 463.25x360 with 1 Axes>"
      ]
     },
     "metadata": {
      "needs_background": "light"
     },
     "output_type": "display_data"
    }
   ],
   "source": [
    "import seaborn as sns\n",
    "\n",
    "sns.lmplot(x=\"petal_length\", y=\"petal_width\", data=iris, hue=\"species\")"
   ]
  },
  {
   "cell_type": "markdown",
   "id": "dc734a65",
   "metadata": {},
   "source": [
    "##  (3) Spark를 사용하여 회귀분석하고 계수 출력"
   ]
  },
  {
   "cell_type": "code",
   "execution_count": 6,
   "id": "e2b76985",
   "metadata": {},
   "outputs": [
    {
     "data": {
      "text/plain": [
       "82"
      ]
     },
     "execution_count": 6,
     "metadata": {},
     "output_type": "execute_result"
    }
   ],
   "source": [
    "(trainDf, testDf) = irisDf.randomSplit([0.6, 0.4])\n",
    "trainDf.count()"
   ]
  },
  {
   "cell_type": "code",
   "execution_count": 7,
   "id": "e9a0435e",
   "metadata": {},
   "outputs": [],
   "source": [
    "from pyspark.ml.feature import StringIndexer\n",
    "\n",
    "stringIndexer = StringIndexer(inputCol=\"species\", outputCol=\"speciesIndex\")"
   ]
  },
  {
   "cell_type": "code",
   "execution_count": 8,
   "id": "c0a46fad",
   "metadata": {},
   "outputs": [],
   "source": [
    "from pyspark.ml.feature import OneHotEncoder\n",
    "\n",
    "encoder = OneHotEncoder(inputCol=\"speciesIndex\", outputCol=\"speciesVec\")"
   ]
  },
  {
   "cell_type": "code",
   "execution_count": 9,
   "id": "59cc91d2",
   "metadata": {},
   "outputs": [],
   "source": [
    "from pyspark.ml.feature import VectorAssembler\n",
    "va = VectorAssembler(inputCols = [\"speciesVec\",\"petal_length\"],\n",
    "                                   outputCol = 'features')"
   ]
  },
  {
   "cell_type": "code",
   "execution_count": 10,
   "id": "85bf92e4",
   "metadata": {},
   "outputs": [],
   "source": [
    "from pyspark.ml.regression import LinearRegression\n",
    "lr = LinearRegression(featuresCol = \"features\", labelCol=\"petal_length\", maxIter=10, regParam=0.3, elasticNetParam=0.8)"
   ]
  },
  {
   "cell_type": "code",
   "execution_count": 11,
   "id": "08f81b10",
   "metadata": {},
   "outputs": [],
   "source": [
    "from pyspark.ml import Pipeline\n",
    "\n",
    "pipeline = Pipeline(stages=[stringIndexer, encoder, va, lr])"
   ]
  },
  {
   "cell_type": "code",
   "execution_count": 12,
   "id": "f754d7e9",
   "metadata": {},
   "outputs": [],
   "source": [
    "model = pipeline.fit(trainDf)\n",
    "modelTrainDf = model.transform(trainDf)"
   ]
  },
  {
   "cell_type": "code",
   "execution_count": 13,
   "id": "1a750dda",
   "metadata": {},
   "outputs": [
    {
     "name": "stdout",
     "output_type": "stream",
     "text": [
      "Coefficients: [-0.46151585252431654,0.035400505417527164,0.7303669322702501]\n",
      "Intercept: 1.133\n"
     ]
    }
   ],
   "source": [
    "print(\"Coefficients: {}\".format(model.stages[-1].coefficients))\n",
    "print(\"Intercept: {:.3f}\".format(model.stages[-1].intercept))"
   ]
  },
  {
   "cell_type": "markdown",
   "id": "d797e3c5",
   "metadata": {},
   "source": [
    "## (4) 실제와 예측 출력"
   ]
  },
  {
   "cell_type": "code",
   "execution_count": 14,
   "id": "16bda805",
   "metadata": {},
   "outputs": [],
   "source": [
    "modelTestDf=model.transform(testDf)"
   ]
  },
  {
   "cell_type": "code",
   "execution_count": 15,
   "id": "f2fb74f6",
   "metadata": {},
   "outputs": [
    {
     "name": "stdout",
     "output_type": "stream",
     "text": [
      "+------------+------------------+\n",
      "|petal_length|        prediction|\n",
      "+------------+------------------+\n",
      "|         1.3|1.6210841647235126|\n",
      "|         1.3|1.6210841647235126|\n",
      "|         1.6|1.8401942444045876|\n",
      "|         1.6|1.8401942444045876|\n",
      "|         4.5|4.4551747059301565|\n",
      "|         1.5|1.7671575511775626|\n",
      "|         1.5|1.7671575511775626|\n",
      "|         1.4|1.6941208579505374|\n",
      "|         1.5|1.7671575511775626|\n",
      "|         1.6|1.8401942444045876|\n",
      "+------------+------------------+\n",
      "only showing top 10 rows\n",
      "\n"
     ]
    }
   ],
   "source": [
    "modelTestDf.select(\"petal_length\",\"prediction\").show(10)"
   ]
  },
  {
   "cell_type": "markdown",
   "id": "3da8f64b",
   "metadata": {},
   "source": [
    "## (4) 정확성 평가하고 출력"
   ]
  },
  {
   "cell_type": "code",
   "execution_count": 16,
   "id": "2f4ba2e3",
   "metadata": {},
   "outputs": [],
   "source": [
    "from pyspark.ml.evaluation import RegressionEvaluator\n",
    "\n",
    "evaluator=RegressionEvaluator(labelCol=\"petal_length\", predictionCol=\"prediction\", metricName=\"rmse\")"
   ]
  },
  {
   "cell_type": "code",
   "execution_count": 17,
   "id": "4371909f",
   "metadata": {},
   "outputs": [],
   "source": [
    "rmse=evaluator.evaluate(modelTestDf)"
   ]
  },
  {
   "cell_type": "code",
   "execution_count": 18,
   "id": "7bb4a68c",
   "metadata": {},
   "outputs": [
    {
     "data": {
      "text/plain": [
       "'Root Mean Squared Error (RMSE) on test data: 0.246'"
      ]
     },
     "execution_count": 18,
     "metadata": {},
     "output_type": "execute_result"
    }
   ],
   "source": [
    "f\"Root Mean Squared Error (RMSE) on test data: {rmse:.3f}\""
   ]
  },
  {
   "cell_type": "code",
   "execution_count": 21,
   "id": "870658b1",
   "metadata": {},
   "outputs": [],
   "source": [
    "from pyspark.ml.evaluation import RegressionEvaluator\n",
    "\n",
    "evaluator=RegressionEvaluator(labelCol=\"petal_length\", predictionCol=\"prediction\", metricName=\"r2\")"
   ]
  },
  {
   "cell_type": "code",
   "execution_count": 22,
   "id": "df994b53",
   "metadata": {},
   "outputs": [
    {
     "data": {
      "text/plain": [
       "'r2: 0.976'"
      ]
     },
     "execution_count": 22,
     "metadata": {},
     "output_type": "execute_result"
    }
   ],
   "source": [
    "f\"r2: {evaluator.evaluate(modelTestDf):.3f}\""
   ]
  },
  {
   "cell_type": "code",
   "execution_count": null,
   "id": "3b9dd436",
   "metadata": {},
   "outputs": [],
   "source": []
  }
 ],
 "metadata": {
  "kernelspec": {
   "display_name": "Python 3 (ipykernel)",
   "language": "python",
   "name": "python3"
  },
  "language_info": {
   "codemirror_mode": {
    "name": "ipython",
    "version": 3
   },
   "file_extension": ".py",
   "mimetype": "text/x-python",
   "name": "python",
   "nbconvert_exporter": "python",
   "pygments_lexer": "ipython3",
   "version": "3.9.6"
  }
 },
 "nbformat": 4,
 "nbformat_minor": 5
}
